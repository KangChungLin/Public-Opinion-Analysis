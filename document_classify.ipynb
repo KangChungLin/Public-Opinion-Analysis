{
 "cells": [
  {
   "cell_type": "code",
   "execution_count": null,
   "metadata": {},
   "outputs": [],
   "source": [
    "# 讀取詞頻Dataframe的csv檔\n",
    "import pandas as pd\n",
    "tf_df = pd.read_csv('tf_all_0818.csv')\n",
    "\n",
    "# Dataframe轉numpy array\n",
    "tf_matrix = tf_df.values"
   ]
  },
  {
   "cell_type": "code",
   "execution_count": null,
   "metadata": {},
   "outputs": [],
   "source": [
    "from sklearn.feature_extraction.text import CountVectorizer\n",
    "from sklearn.feature_extraction.text import TfidfTransformer\n",
    "\n",
    "# 計算tf-idf矩陣\n",
    "tfidf = TfidfTransformer()\n",
    "\n",
    "tfidf_matrix = tfidf.fit_transform(tf_matrix)"
   ]
  },
  {
   "cell_type": "code",
   "execution_count": null,
   "metadata": {},
   "outputs": [],
   "source": [
    "from sklearn.decomposition import LatentDirichletAllocation\n",
    "# n_components代表分成幾個主題\n",
    "X = tf_matrix\n",
    "\n",
    "lda = LatentDirichletAllocation(n_components=3,learning_method='batch',n_jobs=-1)\n",
    "X_topics = lda.fit_transform(X)"
   ]
  },
  {
   "cell_type": "code",
   "execution_count": null,
   "metadata": {},
   "outputs": [],
   "source": [
    "# 印出每個主題前幾重要的關鍵字\n",
    "n_top_words = 5\n",
    "feature_names = tf_df.columns\n",
    "\n",
    "for topic_idx, topic in enumerate(lda.components_):\n",
    "    print(\"Topic %d:\" % (topic_idx + 1))\n",
    "    print(\" \".join([feature_names[i]\n",
    "                    for i in topic.argsort()\\\n",
    "                        [:-n_top_words - 1:-1]]))"
   ]
  },
  {
   "cell_type": "code",
   "execution_count": null,
   "metadata": {},
   "outputs": [],
   "source": [
    "# 匯入原始文章內容\n",
    "import pandas as pd\n",
    "df = pd.read_csv('all_web_827k.csv')\n",
    "df"
   ]
  },
  {
   "cell_type": "code",
   "execution_count": null,
   "metadata": {},
   "outputs": [],
   "source": [
    "# 印出該主題前幾篇文章\n",
    "# topic 8\n",
    "topic = X_topics[:, 7].argsort()[::-1]  # 7代表是topic8a\n",
    "\n",
    "# 印出前10篇\n",
    "for iter_idx, article_idx in enumerate(topic[:10]):\n",
    "    print('\\nArticle #%d:' % (iter_idx + 1))\n",
    "    print(df['Author'][article_idx])\n",
    "    print(df['Date'][article_idx])\n",
    "    print(df['Content'][article_idx], '...')"
   ]
  }
 ],
 "metadata": {
  "kernelspec": {
   "display_name": "Python 3",
   "language": "python",
   "name": "python3"
  },
  "language_info": {
   "codemirror_mode": {
    "name": "ipython",
    "version": 3
   },
   "file_extension": ".py",
   "mimetype": "text/x-python",
   "name": "python",
   "nbconvert_exporter": "python",
   "pygments_lexer": "ipython3",
   "version": "3.7.7"
  }
 },
 "nbformat": 4,
 "nbformat_minor": 4
}
